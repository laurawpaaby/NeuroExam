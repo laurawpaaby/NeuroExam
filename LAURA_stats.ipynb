{
 "cells": [
  {
   "cell_type": "markdown",
   "metadata": {},
   "source": [
    "# EEG Statistics\n",
    "\n",
    "### FaceWord experiment\n",
    "Using some of the FaceWord data you collected, we are going to go through a couple of different ways to discern whether the difference in signal between your conditions is statistically significant. You can go through the notebook using your FaceWord data or the data from your own experiment, that's up to you :-)\n",
    "\n",
    "## Epochs\n",
    "We need epochs for the statistical tests, so you can insert your preprocessed data from earlier tutorials under this section. I'll read in some epochs from your FaceWord which I prepared earlier and I'll be looking at the words/images contrast.\n",
    "\n",
    "(Tip: You can save the epochs object you created in your preprocessing notebook by using epochs.save('your_epochs-epo.fif'))\n",
    "\n",
    "(Extra tip: You can run terminal commands from cells using the os.system() function or simply writing an exclamation mark before the command)"
   ]
  },
  {
   "cell_type": "code",
   "execution_count": null,
   "metadata": {},
   "outputs": [],
   "source": [
    "import os"
   ]
  },
  {
   "cell_type": "code",
   "execution_count": null,
   "metadata": {
    "tags": []
   },
   "outputs": [],
   "source": [
    "# importing modules\n",
    "#import os\n",
    "import pip\n",
    "!python -m pip install mne\n",
    "#os.system('python -m pip install scikit-learn')\n",
    "import numpy as np\n",
    "import pandas as pd\n",
    "import mne\n",
    "\n",
    "\n",
    "from scipy import stats as st\n",
    "import statistics as stats"
   ]
  },
  {
   "cell_type": "code",
   "execution_count": null,
   "metadata": {
    "tags": []
   },
   "outputs": [],
   "source": [
    "epochs = mne.read_epochs('epoch_data/EPOCHS_wICA-epo.fif')\n",
    "epochs\n",
    "\n",
    "epochs_n400 = mne.read_epochs('epoch_Data/EPOCHS_wICA_n400-epo.fif')\n",
    "epochs_n400"
   ]
  },
  {
   "cell_type": "markdown",
   "id": "07d4b14d",
   "metadata": {},
   "source": [
    "### making Epochs for -0.2 - 0.4 data"
   ]
  },
  {
   "cell_type": "code",
   "execution_count": 95,
   "metadata": {
    "tags": []
   },
   "outputs": [],
   "source": [
    "## EVOKED EPOCHS - general for task and prime\n",
    "## first we take the epochs based on the trigger, and then we take the avererage of those to get the evoked\n",
    "prime_epochs = epochs['Prime']\n",
    "task_epochs = epochs['Task']\n",
    "\n",
    "## PRIME EPOCHS Sorting the color and spatial primes from one another.\n",
    "prime_colour_epochs = epochs['Prime/cblue', 'Prime/cred']\n",
    "prime_spatial_epochs = epochs['Prime/sleft', 'Prime/sright']\n",
    "prime_no_epochs = epochs['Prime/no_prime']\n",
    "\n",
    "# TASK EPOCHS SPATIAL + colour PRIMING\n",
    "task_spatial_epochs = epochs['Task/sleft', 'Task/sright']\n",
    "task_colour_epochs = epochs['Task/cred', 'Task/cblue']\n",
    "task_noprime_epochs = epochs['Task/no_prime/left', 'Task/no_prime/right']\n",
    "task_bothprime_epochs = epochs['Task/sleft', 'Task/sright', 'Task/cred', 'Task/cblue']\n",
    "\n",
    "# WAITING EPOCHS - the waiting time between task + prime\n",
    "wait_col_prime_epochs = epochs['Wait/cblue', 'Wait/cred']\n",
    "wait_spa_prime_epochs = epochs['Wait/sleft', 'Wait/sright']\n",
    "wait_no_prime_epochs = epochs['Wait/no_prime/left', 'Wait/no_prime/right']\n",
    "# THE RESPOND !!!! \n",
    "correct_noprime_epochs = epochs['Correct/no_prime/left_task', 'Correct/no_prime/right_task']\n",
    "correct_epochs = epochs['Correct/left_task', 'Correct/right_task']\n",
    "\n",
    "\n",
    "all_epochs = epochs['Task/sleft', 'Task/sright', 'Task/cred', 'Task/cblue','Task/no_prime/left', 'Task/no_prime/right']"
   ]
  },
  {
   "cell_type": "markdown",
   "id": "b0f42c1d",
   "metadata": {},
   "source": [
    "### making epochs for -0.2 - 0.7 (n400) data"
   ]
  },
  {
   "cell_type": "code",
   "execution_count": 94,
   "id": "07258556",
   "metadata": {},
   "outputs": [],
   "source": [
    "## EVOKED EPOCHS - general for task and prime\n",
    "## first we take the epochs based on the trigger, and then we take the avererage of those to get the evoked\n",
    "n_prime_epochs = epochs_n400['Prime']\n",
    "n_task_epochs = epochs_n400['Task']\n",
    "\n",
    "## PRIME EPOCHS Sorting the color and spatial primes from one another.\n",
    "n_prime_colour_epochs = epochs_n400['Prime/cblue', 'Prime/cred']\n",
    "n_prime_spatial_epochs = epochs_n400['Prime/sleft', 'Prime/sright']\n",
    "n_prime_no_epochs = epochs_n400['Prime/no_prime']\n",
    "\n",
    "# TASK EPOCHS SPATIAL + colour PRIMING\n",
    "n_task_spatial_epochs = epochs_n400['Task/sleft', 'Task/sright']\n",
    "n_task_colour_epochs = epochs_n400['Task/cred', 'Task/cblue']\n",
    "n_task_noprime_epochs = epochs_n400['Task/no_prime/left', 'Task/no_prime/right']\n",
    "n_task_bothprime_epochs = epochs_n400['Task/sleft', 'Task/sright', 'Task/cred', 'Task/cblue']\n",
    "\n",
    "# WAITING EPOCHS - the waiting time between task + prime\n",
    "n_wait_col_prime_epochs = epochs_n400['Wait/cblue', 'Wait/cred']\n",
    "n_wait_spa_prime_epochs = epochs_n400['Wait/sleft', 'Wait/sright']\n",
    "vwait_no_prime_epochs = epochs_n400['Wait/no_prime/left', 'Wait/no_prime/right']\n",
    "# THE RESPOND !!!! \n",
    "n_correct_noprime_epochs = epochs_n400['Correct/no_prime/left_task', 'Correct/no_prime/right_task']\n",
    "n_correct_epochs = epochs_n400['Correct/left_task', 'Correct/right_task']\n",
    "\n",
    "\n",
    "all_epochs_n400 = epochs_n400['Task/sleft', 'Task/sright', 'Task/cred', 'Task/cblue','Task/no_prime/left', 'Task/no_prime/right']"
   ]
  },
  {
   "cell_type": "markdown",
   "metadata": {
    "tags": []
   },
   "source": [
    "## Windowed mean\n",
    "for this part we should choose which difference we wan't to inspect - the task/prime, col/spatial prime etc.\n",
    "\n",
    "One of the simplest way in which we can determine whether the signal in our two conditions are statistically significant is by:\n",
    "\n",
    "1) Segmenting our data using only certain channels in a specific time window. Keep in mind that which time window and channels should be established a priori, for instance according to the literature. \n",
    "2) Taking the mean of that window across channels and and samples.\n",
    "3) Running statistical tests on the windowed means from the two conditions.\n",
    "\n",
    "In an experiment with multiple participants we would also average over trials from individual participants, in order to only have one data point per participant (and thereby avoid multiple comparisons). However, since we have one participant, we can keep one dimension of the individual data, i.e. the trials.\n",
    "\n",
    "### THE DATA MADE\n",
    "Investigating the resulting data; how many dimensions does the data have? What do you think they represent (i.e. which dimension is channels, trials, etc.)?\n",
    "\n",
    "*FIRST DIMENSTION*\n",
    "- this is believe is the number of good events \n",
    "\n",
    "*SECOND DIMENSTION*\n",
    "- this is the number of picks - so the number of channels we include in the data \n",
    "\n",
    "*THIRD DIMENSION* \n",
    "- this is the amount of **numerical values of the signal (in microvolts)** that are in the window we set with tmin and tmax. So in this exact window of time, there are 25 signals for each . It is an array of tiny numbers \n",
    "\n",
    "\n",
    "\n",
    "\n",
    "# T-test\n",
    "We can now do a t-test on the trials from the two conditions, to establish whether the means of the two groups are statistically significant.\n",
    "\n",
    "We can use the get_data() function to get the numerical values of the signal (in microvolts) for the t-test. tmin and tmax are used to define the size of the window, and the picks are the channels that we expect to see an effect in."
   ]
  },
  {
   "cell_type": "markdown",
   "id": "7967bff1",
   "metadata": {},
   "source": [
    "#### P 100 !!!!!!!!!"
   ]
  },
  {
   "cell_type": "code",
   "execution_count": 100,
   "metadata": {
    "tags": []
   },
   "outputs": [
    {
     "data": {
      "text/plain": [
       "Ttest_indResult(statistic=-0.5103912838935369, pvalue=0.6112187645120957)"
      ]
     },
     "execution_count": 100,
     "metadata": {},
     "output_type": "execute_result"
    }
   ],
   "source": [
    "##### first make data to use for TTEST AND CSV\n",
    "colp_100_data = task_colour_epochs.get_data(picks=['O1', 'Oz', 'O2'], tmin=.1, tmax=.12)\n",
    "spap_100_data = task_spatial_epochs.get_data(picks=['O1', 'Oz', 'O2'], tmin=.1, tmax=.12)\n",
    "nop_100_data = task_noprime_epochs.get_data(picks=['O1', 'Oz', 'O2'], tmin=.1, tmax=.12)\n",
    "p_100_data = task_bothprime_epochs.get_data(picks=['O1', 'Oz', 'O2'], tmin=.1, tmax=.12)\n",
    "\n",
    "all_100_data = all_epochs.get_data(picks=['O1', 'Oz', 'O2'], tmin=.09, tmax=.12)\n",
    "small_100_data = all_epochs.get_data(picks=['O1', 'Oz', 'O2'], tmin=.09, tmax=.1)\n",
    "\n",
    "### AVERAGING OVER THE DIMENSIONS\n",
    "col_100_mean = np.mean(colp_100_data, axis=2) # averaging over the third dimension of the data\n",
    "col_100_mean = np.mean(col_100_mean, axis=1) # averaging over the second dimension of the data\n",
    "\n",
    "spap_100_mean = np.mean(spap_100_data, axis=2)\n",
    "spap_100_mean = np.mean(spap_100_mean, axis=1)\n",
    "\n",
    "np_100_mean = np.mean(nop_100_data, axis = 2)\n",
    "np_100_mean = np.mean(np_100_mean, axis = 1)\n",
    "\n",
    "p_100_mean = np.mean(p_100_data, axis = 2)\n",
    "p_100_mean = np.mean(p_100_mean, axis = 1)\n",
    "\n",
    "### MAKING THE TEST:\n",
    "\n",
    "##### colour vs. spatial prime\n",
    "st.ttest_ind(a=spap_100_mean, b=col_100_mean)\n",
    "\n"
   ]
  },
  {
   "cell_type": "code",
   "execution_count": null,
   "id": "de905cf1",
   "metadata": {},
   "outputs": [],
   "source": [
    "#### no prime vs. prime \n",
    "st.ttest_ind(a=p_100_mean, b=np_100_mean)"
   ]
  },
  {
   "cell_type": "code",
   "execution_count": null,
   "id": "b8b88080",
   "metadata": {},
   "outputs": [],
   "source": [
    "#### spatial vs. np \n",
    "st.ttest_ind(a=spap_100_mean, b=np_100_mean)"
   ]
  },
  {
   "cell_type": "code",
   "execution_count": null,
   "id": "c6d04a11",
   "metadata": {},
   "outputs": [],
   "source": [
    "#### colour vs. np \n",
    "st.ttest_ind(a=col_100_mean, b=np_100_mean)"
   ]
  },
  {
   "cell_type": "markdown",
   "id": "9db4f428",
   "metadata": {},
   "source": [
    "#### p100 anova"
   ]
  },
  {
   "cell_type": "code",
   "execution_count": null,
   "id": "9212db75",
   "metadata": {},
   "outputs": [],
   "source": [
    "st.f_oneway(spap_100_mean, col_100_mean, np_100_mean)"
   ]
  },
  {
   "cell_type": "markdown",
   "id": "1099bb9c",
   "metadata": {},
   "source": [
    "### LATENCY TEST p100"
   ]
  },
  {
   "cell_type": "code",
   "execution_count": 78,
   "id": "6071eec1",
   "metadata": {},
   "outputs": [
    {
     "name": "stdout",
     "output_type": "stream",
     "text": [
      "[[[-1.31590443e-06 -1.18089676e-06 -2.62847029e-06 -4.56716123e-06\n",
      "   -5.81846370e-06 -5.75031708e-06 -4.33437460e-06]\n",
      "  [-2.82931873e-06 -2.99225671e-06 -4.60072813e-06 -7.12915945e-06\n",
      "   -9.38766766e-06 -1.02477637e-05 -9.14633579e-06]\n",
      "  [-1.51356755e-06 -1.87822409e-06 -3.71783286e-06 -6.52057580e-06\n",
      "   -9.19848330e-06 -1.03982764e-05 -9.37074597e-06]]\n",
      "\n",
      " [[-3.33865433e-06 -3.81214528e-06 -5.28403951e-06 -6.94517886e-06\n",
      "   -7.51501950e-06 -6.21815643e-06 -3.25494698e-06]\n",
      "  [-1.90577142e-06 -1.91604598e-06 -1.92162937e-06 -1.95190663e-06\n",
      "   -1.47848971e-06  8.44417697e-08  2.84503080e-06]\n",
      "  [ 5.88523880e-06  5.59515692e-06  5.12760242e-06  4.77763104e-06\n",
      "    4.81868017e-06  5.45362681e-06  6.73833211e-06]]\n",
      "\n",
      " [[ 7.38616711e-07  3.56530077e-06  5.42205897e-06  5.14196552e-06\n",
      "    3.17261443e-06  1.06439467e-06  2.42897526e-07]\n",
      "  [-3.55978705e-06  1.91179336e-07  2.90351495e-06  3.03624897e-06\n",
      "    1.15201057e-06 -9.28061686e-07 -1.43379695e-06]\n",
      "  [-1.49422042e-06  2.95926097e-06  7.32784549e-06  9.10129761e-06\n",
      "    7.86991380e-06  5.28420904e-06  3.58404764e-06]]\n",
      "\n",
      " [[ 5.73627448e-06  5.78435910e-06  5.10653780e-06  3.59082411e-06\n",
      "    1.32159177e-06 -1.24490582e-06 -3.27536405e-06]\n",
      "  [ 7.22202541e-06  7.68225375e-06  8.15368415e-06  7.68406837e-06\n",
      "    5.96156433e-06  3.71858556e-06  2.43195867e-06]\n",
      "  [ 4.50046689e-06  5.12957602e-06  6.13222228e-06  6.38384891e-06\n",
      "    5.38517569e-06  3.80577118e-06  3.30475382e-06]]\n",
      "\n",
      " [[ 3.83579433e-06  4.90522551e-06  5.25823424e-06  4.68371188e-06\n",
      "    3.54928166e-06  2.59684588e-06  2.30453392e-06]\n",
      "  [ 5.98599226e-06  6.60408196e-06  6.66175630e-06  6.39997825e-06\n",
      "    6.17118503e-06  6.17697815e-06  6.40454901e-06]\n",
      "  [ 4.81276191e-06  5.58772162e-06  5.78799708e-06  5.35874141e-06\n",
      "    4.45524463e-06  3.34318070e-06  2.45056748e-06]]\n",
      "\n",
      " [[-3.05968938e-06 -2.82901751e-06 -2.38021061e-06 -2.26051656e-06\n",
      "   -2.75176357e-06 -3.63723489e-06 -4.27329657e-06]\n",
      "  [-4.39869916e-06 -4.42949938e-06 -3.58521471e-06 -2.64476443e-06\n",
      "   -2.35741194e-06 -2.92257396e-06 -3.71874636e-06]\n",
      "  [-2.03995445e-06 -2.58445092e-06 -2.02902778e-06 -6.53877269e-07\n",
      "    7.17906880e-07  1.35812927e-06  1.29086531e-06]]\n",
      "\n",
      " [[ 3.22162309e-07  1.10352595e-06  1.90896756e-06  2.52954655e-06\n",
      "    2.97892516e-06  3.40269840e-06  3.82959994e-06]\n",
      "  [ 1.19389535e-06  2.29153578e-06  3.79561176e-06  5.17361703e-06\n",
      "    5.84248273e-06  5.47600547e-06  4.25203004e-06]\n",
      "  [ 9.44331201e-06  8.04467503e-06  7.17309314e-06  6.71657991e-06\n",
      "    6.11497171e-06  5.04155585e-06  3.95993817e-06]]\n",
      "\n",
      " [[ 1.05272398e-05  1.07085050e-05  1.05468674e-05  1.01277097e-05\n",
      "    9.20198668e-06  7.52960925e-06  5.17656525e-06]\n",
      "  [ 6.61284222e-06  8.01322615e-06  8.27665657e-06  7.70624695e-06\n",
      "    6.91570177e-06  6.24178947e-06  5.49082733e-06]\n",
      "  [ 1.80359678e-06  3.65441852e-06  6.23245442e-06  8.48057692e-06\n",
      "    9.43093342e-06  8.74888369e-06  6.74545091e-06]]\n",
      "\n",
      " [[ 5.51170969e-06  5.92832302e-06  5.02559204e-06  3.84168530e-06\n",
      "    3.34819857e-06  3.90406064e-06  5.02434021e-06]\n",
      "  [ 7.88694318e-06  7.67281829e-06  7.49194380e-06  7.19662359e-06\n",
      "    6.88050797e-06  6.39259752e-06  6.33097380e-06]\n",
      "  [ 6.87355870e-06  7.52355493e-06  8.72313480e-06  9.89158303e-06\n",
      "    1.00300001e-05  8.86236025e-06  7.29870455e-06]]\n",
      "\n",
      " [[ 1.35271505e-06  2.02735722e-06  3.52469657e-06  4.75405766e-06\n",
      "    4.63751501e-06  2.97146275e-06  7.62915363e-07]\n",
      "  [ 9.69451517e-06  1.04144610e-05  1.11406416e-05  1.13642878e-05\n",
      "    1.03219399e-05  7.99491257e-06  5.24505457e-06]\n",
      "  [ 5.82666880e-06  5.27957426e-06  5.65388554e-06  6.77448053e-06\n",
      "    7.46342568e-06  6.77087238e-06  4.91704748e-06]]\n",
      "\n",
      " [[ 2.70650129e-06  3.05496546e-06  1.60859984e-06 -6.58729605e-07\n",
      "   -2.26895703e-06 -2.25388215e-06 -7.56133534e-07]\n",
      "  [ 7.79011509e-07  3.16814735e-06  4.86883226e-06  6.36865525e-06\n",
      "    7.96684556e-06  9.46102751e-06  1.01654283e-05]\n",
      "  [-2.91287820e-06 -8.10692848e-07  8.41553368e-07  2.34244093e-06\n",
      "    3.91759246e-06  5.40241607e-06  6.39613800e-06]]\n",
      "\n",
      " [[ 2.98678992e-06  2.10189777e-06  2.30017034e-06  3.78813789e-06\n",
      "    5.63328330e-06  6.61180830e-06  6.24216709e-06]\n",
      "  [ 6.25478724e-06  4.25166879e-06  2.98863929e-06  3.46011626e-06\n",
      "    5.45733136e-06  7.95976242e-06  9.81660356e-06]\n",
      "  [ 1.48566708e-06  1.21412006e-06  1.37767795e-06  1.87134595e-06\n",
      "    2.59284683e-06  3.59917763e-06  4.88586964e-06]]\n",
      "\n",
      " [[-4.19096511e-06 -4.33608590e-06 -4.63898039e-06 -5.70317142e-06\n",
      "   -7.35487422e-06 -8.54928889e-06 -8.14229218e-06]\n",
      "  [-3.44379701e-06 -3.24122343e-06 -2.73139235e-06 -2.69310244e-06\n",
      "   -3.03674356e-06 -2.97452011e-06 -1.82385086e-06]\n",
      "  [-9.79106131e-06 -7.14868376e-06 -3.70266431e-06 -1.56261742e-06\n",
      "   -1.52769628e-06 -2.73087612e-06 -3.33756730e-06]]\n",
      "\n",
      " [[ 4.63570139e-07 -1.34085769e-06 -2.46608510e-06 -2.94652823e-06\n",
      "   -3.13259157e-06 -3.50268534e-06 -4.19420982e-06]\n",
      "  [ 3.67724211e-06  2.16588090e-06  5.31393979e-07 -3.50944998e-07\n",
      "   -1.06547285e-08  9.66112398e-07  1.57135803e-06]\n",
      "  [ 4.75894820e-06  3.35896589e-06  1.64299256e-06  4.82323920e-07\n",
      "    5.09470882e-07  1.47814992e-06  2.79527253e-06]]\n",
      "\n",
      " [[ 4.74188426e-06  2.84159782e-06  4.07086424e-07 -1.65322201e-06\n",
      "   -2.65863241e-06 -2.78855409e-06 -2.99295902e-06]\n",
      "  [ 1.39573433e-06  9.00204863e-07  2.93877206e-07 -3.20347595e-07\n",
      "   -1.17259889e-06 -2.42811169e-06 -4.00135038e-06]\n",
      "  [-4.72421096e-06 -4.15336551e-06 -3.61779645e-06 -3.85792997e-06\n",
      "   -5.17400193e-06 -7.34256329e-06 -9.58753458e-06]]\n",
      "\n",
      " [[ 1.81962971e-06  2.94760070e-06  4.73698062e-06  5.52804167e-06\n",
      "    4.67815851e-06  3.14919421e-06  2.34472176e-06]\n",
      "  [ 4.22637283e-06  4.26492995e-06  4.43244360e-06  4.44455297e-06\n",
      "    4.15659348e-06  3.75671631e-06  3.64032136e-06]\n",
      "  [-3.15049924e-07  2.58992217e-07  7.79227151e-07  9.13352792e-07\n",
      "    5.63103967e-07  1.04374533e-10 -2.80046315e-07]]\n",
      "\n",
      " [[-6.50907323e-06 -5.87446638e-06 -5.96182262e-06 -6.65595154e-06\n",
      "   -7.10426913e-06 -6.71043173e-06 -5.55486849e-06]\n",
      "  [ 1.81070518e-07 -5.99708810e-07 -1.59077156e-06 -2.30252521e-06\n",
      "   -2.39284112e-06 -1.90685699e-06 -1.11245974e-06]\n",
      "  [-2.58941804e-06 -2.36414693e-06 -2.35085594e-06 -2.37897806e-06\n",
      "   -1.81842336e-06 -5.45801603e-07  9.84551858e-07]]\n",
      "\n",
      " [[-2.38051714e-05 -2.50083369e-05 -2.56925476e-05 -2.47244785e-05\n",
      "   -2.22894556e-05 -1.99357254e-05 -1.90732276e-05]\n",
      "  [-4.88642771e-06 -5.36296219e-06 -4.84655000e-06 -2.81497618e-06\n",
      "    1.86157624e-08  2.24052459e-06  2.80391909e-06]\n",
      "  [-5.80819660e-06 -5.64025039e-06 -5.03885684e-06 -3.53167057e-06\n",
      "   -1.33489441e-06  7.84662018e-07  2.14279938e-06]]\n",
      "\n",
      " [[ 4.54031440e-06  5.17700726e-06  4.91597610e-06  4.48107682e-06\n",
      "    4.69793856e-06  5.73034822e-06  6.96430299e-06]\n",
      "  [ 1.30587661e-06  3.26962841e-06  4.43385222e-06  4.29789477e-06\n",
      "    3.34107904e-06  2.46137355e-06  2.43040016e-06]\n",
      "  [ 6.15709223e-06  6.65160925e-06  6.90252574e-06  6.83875852e-06\n",
      "    6.66795105e-06  6.62826725e-06  6.85169808e-06]]\n",
      "\n",
      " [[ 5.75641170e-07  1.37792781e-07 -5.38267167e-07 -6.35755360e-07\n",
      "   -4.29448803e-09  8.32678610e-07  1.37281488e-06]\n",
      "  [ 5.39242436e-06  5.89936398e-06  5.39170695e-06  4.70294624e-06\n",
      "    4.53746222e-06  5.03559284e-06  5.85267853e-06]\n",
      "  [ 6.67685173e-06  7.38556493e-06  7.40629414e-06  6.94486236e-06\n",
      "    6.17642227e-06  5.22543349e-06  4.30517691e-06]]\n",
      "\n",
      " [[-1.04388777e-05 -1.05559486e-05 -1.07111222e-05 -1.06694673e-05\n",
      "   -1.04848304e-05 -1.06501809e-05 -1.11796211e-05]\n",
      "  [-6.30293880e-06 -4.76525572e-06 -4.38502400e-06 -4.55504239e-06\n",
      "   -4.47966820e-06 -3.90027605e-06 -2.94125716e-06]\n",
      "  [-1.18048834e-05 -6.72083416e-06 -2.70829737e-06 -5.82872699e-07\n",
      "   -8.78309165e-08 -3.92840235e-07 -3.73216659e-07]]\n",
      "\n",
      " [[ 4.39866423e-06  3.11997615e-06  4.74757969e-07 -2.34136045e-06\n",
      "   -3.97591763e-06 -3.79019044e-06 -1.98999827e-06]\n",
      "  [ 1.28219783e-06 -2.64791055e-06 -5.89163182e-06 -7.15309954e-06\n",
      "   -6.13873863e-06 -3.66674873e-06 -7.47282331e-07]\n",
      "  [ 3.57597679e-06  1.33306196e-06 -4.68298260e-08 -6.23465335e-08\n",
      "    1.22347967e-06  3.25440492e-06  5.32982602e-06]]\n",
      "\n",
      " [[-8.41386367e-06 -8.03526357e-06 -7.02357294e-06 -5.61302412e-06\n",
      "   -4.11267944e-06 -2.52643626e-06 -8.11086114e-07]\n",
      "  [-3.70691965e-06 -3.07407831e-06 -2.76639571e-06 -2.10162874e-06\n",
      "   -7.79363848e-07  9.49012988e-07  2.41099682e-06]\n",
      "  [-6.64757109e-06 -6.34230464e-06 -5.50366539e-06 -3.95922804e-06\n",
      "   -1.98794572e-06 -3.05799749e-07  5.51972115e-07]]\n",
      "\n",
      " [[-7.88188347e-06 -6.91662291e-06 -4.20065014e-06 -1.25252502e-06\n",
      "    6.64629361e-07  1.26591178e-06  1.37490763e-06]\n",
      "  [-2.07806664e-06 -1.01945081e-06  5.92764136e-07  1.27545520e-06\n",
      "    3.52308217e-07 -1.75908829e-06 -3.77095426e-06]\n",
      "  [ 5.07570993e-06  6.67168434e-06  8.06291003e-06  8.25791152e-06\n",
      "    7.13826750e-06  5.39932124e-06  4.04315294e-06]]\n",
      "\n",
      " [[ 3.09195534e-06  3.54717091e-06  2.97261508e-06  2.33158065e-06\n",
      "    2.40190315e-06  3.27093590e-06  4.54330300e-06]\n",
      "  [-4.86100369e-07  5.45594056e-07  8.57474983e-07  8.47757486e-07\n",
      "    8.54994791e-07  1.01469779e-06  1.42119754e-06]\n",
      "  [ 3.26125051e-06  5.47069184e-06  5.72937433e-06  4.37499554e-06\n",
      "    2.66450156e-06  1.96314016e-06  2.72860838e-06]]\n",
      "\n",
      " [[-1.04134107e-06 -1.05083856e-06  1.85719730e-07  1.62819417e-06\n",
      "    2.31735597e-06  2.26468732e-06  2.08980476e-06]\n",
      "  [-3.27017665e-06 -2.62848775e-06 -1.49984210e-06 -1.50479800e-07\n",
      "    9.94014696e-07  1.47324629e-06  1.14233446e-06]\n",
      "  [-1.44320095e-06 -1.97185839e-06 -1.88396974e-06 -1.07577954e-06\n",
      "   -6.95888399e-08  3.99105290e-07  2.22990710e-07]]\n",
      "\n",
      " [[ 1.10762859e-06  1.95066553e-06  2.13250354e-06  2.20697078e-06\n",
      "    2.70567657e-06  3.55569433e-06  3.99147399e-06]\n",
      "  [ 1.81052367e-06  2.04980355e-06  2.22925340e-06  3.13611095e-06\n",
      "    4.58252186e-06  5.49898877e-06  4.83608353e-06]\n",
      "  [ 3.54777918e-06  4.97033478e-06  5.52411192e-06  4.99291353e-06\n",
      "    3.75160058e-06  2.51279802e-06  1.75489079e-06]]\n",
      "\n",
      " [[-4.00318828e-06 -4.86200959e-06 -4.34940600e-06 -2.71160483e-06\n",
      "   -1.13219796e-06 -6.55525910e-07 -1.31876224e-06]\n",
      "  [-7.04970954e-07 -7.34932575e-07 -1.24345083e-07  6.16149064e-07\n",
      "    5.32579187e-07 -7.23323694e-07 -2.43900489e-06]\n",
      "  [-1.72406456e-06 -1.30218625e-06  7.58719454e-07  3.18362186e-06\n",
      "    4.14299399e-06  2.85524515e-06  4.29871768e-07]]\n",
      "\n",
      " [[ 1.28559525e-06  2.05501695e-06  3.24858379e-06  4.17687522e-06\n",
      "    4.43990582e-06  4.37286114e-06  4.58049551e-06]\n",
      "  [ 1.76169981e-06  1.65218937e-06  2.29819201e-06  3.25765073e-06\n",
      "    3.94346286e-06  4.17328344e-06  4.30550542e-06]\n",
      "  [ 2.12817743e-06  2.79821511e-06  3.94130845e-06  5.11072293e-06\n",
      "    5.78422486e-06  5.75311614e-06  5.34169748e-06]]\n",
      "\n",
      " [[-2.76930554e-06 -7.35015021e-07  1.54949214e-06  3.43179532e-06\n",
      "    4.58006041e-06  4.92209372e-06  4.63852673e-06]\n",
      "  [-1.04313350e-06  7.70027793e-07  3.80904354e-06  7.23126442e-06\n",
      "    1.00345229e-05  1.14095675e-05  1.10381379e-05]\n",
      "  [-5.45901720e-06 -4.55580418e-06 -1.87045264e-06  1.60528127e-06\n",
      "    4.26671401e-06  4.91114777e-06  3.57440373e-06]]\n",
      "\n",
      " [[ 5.19625763e-06  5.85132193e-06  5.40761874e-06  4.35270237e-06\n",
      "    3.51493660e-06  3.34326765e-06  3.73855952e-06]\n",
      "  [ 3.96134134e-06  4.70097882e-06  4.84530581e-06  4.75059903e-06\n",
      "    4.74547603e-06  4.73284934e-06  4.52511783e-06]\n",
      "  [ 6.06708645e-06  5.80495116e-06  5.54200241e-06  5.64532101e-06\n",
      "    6.29985089e-06  7.25920556e-06  8.18032143e-06]]\n",
      "\n",
      " [[ 1.71693670e-05  1.62176718e-05  1.52273426e-05  1.46077584e-05\n",
      "    1.40187085e-05  1.27017936e-05  1.03728673e-05]\n",
      "  [ 1.45064946e-05  1.38715043e-05  1.25537948e-05  1.19921171e-05\n",
      "    1.26213667e-05  1.35399985e-05  1.33255120e-05]\n",
      "  [ 8.15454999e-06  9.14053321e-06  9.31057307e-06  9.03808409e-06\n",
      "    8.83543048e-06  8.88945373e-06  8.78938167e-06]]\n",
      "\n",
      " [[ 1.24903325e-05  1.22193132e-05  1.07044596e-05  8.16586847e-06\n",
      "    5.01328439e-06  1.76728920e-06 -1.12272693e-06]\n",
      "  [ 1.02837870e-05  1.01766805e-05  8.04950626e-06  4.71465289e-06\n",
      "    1.44791386e-06 -6.58480313e-07 -1.32384568e-06]\n",
      "  [ 7.93221637e-07  1.42908959e-06  1.57470679e-06  1.21232744e-06\n",
      "    2.72682227e-07 -1.24835098e-06 -3.16714291e-06]]\n",
      "\n",
      " [[ 8.37607525e-07  1.99629579e-06  2.93359776e-06  3.61088247e-06\n",
      "    4.29454310e-06  5.00857248e-06  5.53932340e-06]\n",
      "  [-7.78838433e-07  2.93944304e-07  1.36234441e-06  2.25415919e-06\n",
      "    2.92051431e-06  3.08484855e-06  2.64230043e-06]\n",
      "  [-4.45063376e-07  3.55862909e-07  1.10832599e-06  1.55752516e-06\n",
      "    1.77273617e-06  1.59682734e-06  9.15553951e-07]]\n",
      "\n",
      " [[-2.09208214e-06 -3.23624995e-06 -4.00787291e-06 -5.77508626e-06\n",
      "   -8.77149154e-06 -1.18027836e-05 -1.31022114e-05]\n",
      "  [ 2.43553153e-06  1.88862508e-06  5.19077010e-07 -1.59965132e-06\n",
      "   -3.59424635e-06 -4.43832402e-06 -3.68708612e-06]\n",
      "  [ 2.62655198e-06  3.13696478e-06  3.40335542e-06  2.82907808e-06\n",
      "    1.53851308e-06  3.20591953e-07  2.04790493e-07]]\n",
      "\n",
      " [[-7.63206710e-06 -6.89724703e-06 -6.24932082e-06 -5.72456419e-06\n",
      "   -4.80645547e-06 -2.97483207e-06 -3.33075291e-07]\n",
      "  [-5.44584735e-06 -5.99548812e-06 -5.78994122e-06 -5.13388812e-06\n",
      "   -4.03344426e-06 -2.27777258e-06  1.46388972e-07]\n",
      "  [-5.18723653e-06 -5.94461571e-06 -6.10633006e-06 -6.21533627e-06\n",
      "   -6.35296611e-06 -6.26131523e-06 -5.44324256e-06]]\n",
      "\n",
      " [[-2.58587283e-06 -1.64582764e-06  5.04526641e-07  3.30103945e-06\n",
      "    5.57969769e-06  6.37717467e-06  5.75245257e-06]\n",
      "  [-4.64596203e-06 -3.07447885e-06 -7.35458309e-07  1.71683207e-06\n",
      "    3.44617152e-06  3.81670112e-06  2.97274678e-06]\n",
      "  [ 1.68040936e-06  3.73495574e-06  5.57320572e-06  6.58576401e-06\n",
      "    6.44789189e-06  5.35429543e-06  4.09871433e-06]]\n",
      "\n",
      " [[ 4.32417480e-06  2.93997987e-06  1.80389000e-06  1.43380623e-06\n",
      "    1.99864974e-06  3.12558373e-06  4.06548940e-06]\n",
      "  [ 2.87783573e-06  1.76935867e-06  7.37616403e-07 -1.57599870e-07\n",
      "   -5.55434607e-07 -2.27927288e-07  6.87333396e-07]\n",
      "  [ 3.95165158e-06  2.88965643e-06  2.83090107e-06  3.45660706e-06\n",
      "    3.96920629e-06  3.71191787e-06  2.87793232e-06]]\n",
      "\n",
      " [[ 2.09096587e-07  4.68987953e-07  6.73569876e-07  1.00891122e-06\n",
      "    1.57735415e-06  2.13095394e-06  2.20836122e-06]\n",
      "  [ 7.36334311e-08  2.85796618e-07  4.70930134e-07  1.02636197e-06\n",
      "    2.04138781e-06  3.02500962e-06  3.23525460e-06]\n",
      "  [-5.89365272e-06 -5.85434145e-06 -5.18730165e-06 -4.00112155e-06\n",
      "   -2.89455788e-06 -2.61686550e-06 -3.22040110e-06]]\n",
      "\n",
      " [[ 5.13034437e-06  4.37868955e-06  3.77113398e-06  3.63452315e-06\n",
      "    3.58476251e-06  3.06387451e-06  1.80328482e-06]\n",
      "  [ 7.91362120e-06  7.97613259e-06  9.43404753e-06  1.15757752e-05\n",
      "    1.30264454e-05  1.29992930e-05  1.16487319e-05]\n",
      "  [-3.25288447e-07  7.17651300e-08  1.86522469e-06  4.09552528e-06\n",
      "    5.39174952e-06  5.07621815e-06  3.53314650e-06]]]\n"
     ]
    }
   ],
   "source": [
    "n = col_100_mean.max()\n",
    "print(colp_100_data)\n"
   ]
  },
  {
   "cell_type": "code",
   "execution_count": null,
   "id": "af0f18e6",
   "metadata": {},
   "outputs": [],
   "source": [
    "\n",
    "smax100 = spap_100_mean.max()\n",
    "npmax100 = np_100_mean.max()"
   ]
  },
  {
   "cell_type": "markdown",
   "id": "ca5a30ee",
   "metadata": {},
   "source": [
    "### P200 TIME "
   ]
  },
  {
   "cell_type": "code",
   "execution_count": null,
   "id": "e4f67e85",
   "metadata": {},
   "outputs": [],
   "source": [
    "##### first make data to use for TTEST AND CSV\n",
    "colp_200_data = task_colour_epochs.get_data(picks=['CP1', 'CP2', 'Cz'], tmin=.125, tmax=.275)\n",
    "spap_200_data = task_spatial_epochs.get_data(picks=['CP1', 'CP2', 'Cz'], tmin=.125, tmax=.275)\n",
    "nop_200_data = task_noprime_epochs.get_data(picks=['CP1', 'CP2', 'Cz'], tmin=.125, tmax=.275)\n",
    "p_200_data = task_bothprime_epochs.get_data(picks=['CP1', 'CP2', 'Cz'], tmin=.125, tmax=.275)\n",
    "\n",
    "\n",
    "### AVERAGING OVER THE DIMENSIONS\n",
    "col_200_mean = np.mean(colp_200_data, axis=2) # averaging over the third dimension of the data\n",
    "col_200_mean = np.mean(col_200_mean, axis=1) # averaging over the second dimension of the data\n",
    "\n",
    "spap_200_mean = np.mean(spap_200_data, axis=2)\n",
    "spap_200_mean = np.mean(spap_200_mean, axis=1)\n",
    "\n",
    "np_200_mean = np.mean(nop_200_data, axis = 2)\n",
    "np_200_mean = np.mean(np_200_mean, axis = 1)\n",
    "\n",
    "p_200_mean = np.mean(p_200_data, axis = 2)\n",
    "p_200_mean = np.mean(p_200_mean, axis = 1)\n"
   ]
  },
  {
   "cell_type": "markdown",
   "id": "be1a4fe4",
   "metadata": {},
   "source": [
    "#### p200 ttest"
   ]
  },
  {
   "cell_type": "code",
   "execution_count": null,
   "id": "7c8f39c3",
   "metadata": {},
   "outputs": [],
   "source": [
    "\n",
    "##### colour vs. spatial prime\n",
    "st.ttest_ind(a=spap_200_mean, b=col_200_mean)\n"
   ]
  },
  {
   "cell_type": "code",
   "execution_count": null,
   "id": "8a09d7ba",
   "metadata": {},
   "outputs": [],
   "source": [
    "\n",
    "#### no prime vs. prime \n",
    "st.ttest_ind(a=p_200_mean, b=np_200_mean)\n"
   ]
  },
  {
   "cell_type": "code",
   "execution_count": null,
   "id": "4329c7a6",
   "metadata": {},
   "outputs": [],
   "source": [
    "\n",
    "#### spatial vs. np \n",
    "st.ttest_ind(a=spap_200_mean, b=np_200_mean)\n"
   ]
  },
  {
   "cell_type": "code",
   "execution_count": null,
   "id": "1edeff7a",
   "metadata": {},
   "outputs": [],
   "source": [
    "\n",
    "#### colour vs. np \n",
    "st.ttest_ind(a=col_200_mean, b=np_200_mean)"
   ]
  },
  {
   "cell_type": "markdown",
   "id": "9396cf0b",
   "metadata": {},
   "source": [
    "### p200 anova"
   ]
  },
  {
   "cell_type": "code",
   "execution_count": null,
   "id": "1a1e9899",
   "metadata": {},
   "outputs": [],
   "source": [
    "st.f_oneway(spap_200_mean, col_200_mean, np_200_mean)"
   ]
  },
  {
   "cell_type": "markdown",
   "id": "786557b0",
   "metadata": {},
   "source": [
    "#### n170\n"
   ]
  },
  {
   "cell_type": "code",
   "execution_count": 91,
   "id": "c0a9e93a",
   "metadata": {},
   "outputs": [],
   "source": [
    "##### first make data to use for TTEST AND CSV\n",
    "colp_170_data = task_colour_epochs.get_data(picks=['O1', 'O2'], tmin=.14, tmax=.18)\n",
    "spap_170_data = task_spatial_epochs.get_data(picks=['O1', 'O2'], tmin=.14, tmax=.18)\n",
    "nop_170_data = task_noprime_epochs.get_data(picks=['O1', 'O2'], tmin=.14, tmax=.18)\n",
    "p_170_data = task_bothprime_epochs.get_data(picks=['O1', 'O2'], tmin=.14, tmax=.18)\n",
    "\n",
    "\n",
    "### AVERAGING OVER THE DIMENSIONS\n",
    "col_170_mean = np.mean(colp_170_data, axis=2) # averaging over the third dimension of the data\n",
    "col_170_mean = np.mean(col_170_mean, axis=1) # averaging over the second dimension of the data\n",
    "\n",
    "spap_170_mean = np.mean(spap_170_data, axis=2)\n",
    "spap_170_mean = np.mean(spap_170_mean, axis=1)\n",
    "\n",
    "np_170_mean = np.mean(nop_170_data, axis = 2)\n",
    "np_170_mean = np.mean(np_170_mean, axis = 1)\n",
    "\n",
    "p_170_mean = np.mean(p_170_data, axis = 2)\n",
    "p_170_mean = np.mean(p_170_mean, axis = 1)\n"
   ]
  },
  {
   "cell_type": "markdown",
   "id": "488b40f2",
   "metadata": {},
   "source": [
    "### n170 TTEST"
   ]
  },
  {
   "cell_type": "code",
   "execution_count": null,
   "id": "bee4f453",
   "metadata": {},
   "outputs": [],
   "source": [
    "##### colour vs. spatial prime\n",
    "st.ttest_ind(a=spap_170_mean, b=col_170_mean)\n"
   ]
  },
  {
   "cell_type": "code",
   "execution_count": null,
   "id": "c833fcdf",
   "metadata": {},
   "outputs": [],
   "source": [
    "\n",
    "#### no prime vs. prime \n",
    "st.ttest_ind(a=p_170_mean, b=np_170_mean)"
   ]
  },
  {
   "cell_type": "code",
   "execution_count": null,
   "id": "618003b5",
   "metadata": {},
   "outputs": [],
   "source": [
    "#### spatial vs. np \n",
    "st.ttest_ind(a=spap_170_mean, b=np_170_mean)"
   ]
  },
  {
   "cell_type": "code",
   "execution_count": null,
   "id": "2df46a7c",
   "metadata": {},
   "outputs": [],
   "source": [
    "\n",
    "#### colour vs. np \n",
    "st.ttest_ind(a=col_170_mean, b=np_170_mean)"
   ]
  },
  {
   "cell_type": "markdown",
   "id": "ca3022ad",
   "metadata": {},
   "source": [
    "### n170 anova"
   ]
  },
  {
   "cell_type": "code",
   "execution_count": 92,
   "id": "c31e190b",
   "metadata": {},
   "outputs": [
    {
     "data": {
      "text/plain": [
       "F_onewayResult(statistic=0.24735434999829592, pvalue=0.7812712504128722)"
      ]
     },
     "execution_count": 92,
     "metadata": {},
     "output_type": "execute_result"
    }
   ],
   "source": [
    "st.f_oneway(spap_170_mean, col_170_mean, np_170_mean)"
   ]
  },
  {
   "cell_type": "markdown",
   "id": "c07c9cd8",
   "metadata": {},
   "source": [
    "## N400 "
   ]
  },
  {
   "cell_type": "code",
   "execution_count": null,
   "id": "322631c6",
   "metadata": {},
   "outputs": [],
   "source": [
    "##### first make data to use for TTEST AND CSV\n",
    "colp_400_data = n_task_colour_epochs.get_data(picks=['FC1', 'FC2', 'Fz'], tmin=.3, tmax=.6)\n",
    "spap_400_data = n_task_spatial_epochs.get_data(picks=['FC1', 'FC2', 'Fz'],tmin=.3, tmax=.6)\n",
    "nop_400_data = n_task_noprime_epochs.get_data(picks=['FC1', 'FC2', 'Fz'], tmin=.3, tmax=.6)\n",
    "p_400_data = n_task_bothprime_epochs.get_data(picks=['FC1', 'FC2', 'Fz'], tmin=.3, tmax=.6)\n",
    "\n",
    "\n",
    "### AVERAGING OVER THE DIMENSIONS\n",
    "col_400_mean = np.mean(colp_400_data, axis=2) # averaging over the third dimension of the data\n",
    "col_400_mean = np.mean(col_400_mean, axis=1) # averaging over the second dimension of the data\n",
    "\n",
    "spap_400_mean = np.mean(spap_400_data, axis=2)\n",
    "spap_400_mean = np.mean(spap_400_mean, axis=1)\n",
    "\n",
    "np_400_mean = np.mean(nop_400_data, axis = 2)\n",
    "np_400_mean = np.mean(np_400_mean, axis = 1)\n",
    "\n",
    "p_400_mean = np.mean(p_400_data, axis = 2)\n",
    "p_400_mean = np.mean(p_400_mean, axis = 1)\n"
   ]
  },
  {
   "cell_type": "markdown",
   "id": "0f345b51",
   "metadata": {},
   "source": [
    "### N400 TTEST"
   ]
  },
  {
   "cell_type": "code",
   "execution_count": null,
   "id": "10ebf70e",
   "metadata": {},
   "outputs": [],
   "source": [
    "##### colour vs. spatial prime\n",
    "st.ttest_ind(a=spap_400_mean, b=col_400_mean)\n"
   ]
  },
  {
   "cell_type": "code",
   "execution_count": null,
   "id": "e9b6c80c",
   "metadata": {},
   "outputs": [],
   "source": [
    "#### no prime vs. prime '\n",
    "st.ttest_ind(a=p_400_mean, b=np_400_mean)\n"
   ]
  },
  {
   "cell_type": "code",
   "execution_count": null,
   "id": "8e551c21",
   "metadata": {},
   "outputs": [],
   "source": [
    "#### spatial vs. np \n",
    "st.ttest_ind(a=spap_400_mean, b=np_400_mean)\n"
   ]
  },
  {
   "cell_type": "code",
   "execution_count": null,
   "id": "647a29a3",
   "metadata": {},
   "outputs": [],
   "source": [
    "\n",
    "#### colour vs. np \n",
    "st.ttest_ind(a=col_400_mean, b=np_400_mean)"
   ]
  },
  {
   "cell_type": "markdown",
   "id": "9a4d00e5",
   "metadata": {},
   "source": [
    "### N400 ANOVA"
   ]
  },
  {
   "cell_type": "code",
   "execution_count": null,
   "id": "2dabb09d",
   "metadata": {},
   "outputs": [],
   "source": [
    "st.f_oneway(spap_400_mean, col_400_mean, np_400_mean)"
   ]
  },
  {
   "cell_type": "markdown",
   "metadata": {},
   "source": [
    "# Mixed effects model\n",
    "By averaging over multiple dimensions of our data, we are of couse throwing away some information. If we had multiple participants, we could add the trials back into the mix by using a mixed-effects model. Since we already have trials, we could add the samples or channels as random effects in a mixed-effects model.\n",
    "\n",
    "We can export the data in a csv format so you have the option of doing a bit of modelling in R if you would like to ;-)"
   ]
  },
  {
   "cell_type": "markdown",
   "id": "3ce906a2",
   "metadata": {},
   "source": [
    "# P100 DATA "
   ]
  },
  {
   "cell_type": "code",
   "execution_count": null,
   "metadata": {
    "tags": []
   },
   "outputs": [],
   "source": [
    "##### PRIME DATA \n",
    "shape = p_100_data.shape \n",
    "index = pd.MultiIndex.from_product([range(s)for s in shape])\n",
    "prime = pd.DataFrame({'signal': p_100_data.flatten()}, index=index).reset_index()\n",
    "prime.to_csv('General100Prime.csv', index=False)\n",
    "\n",
    "##### NO PRIME DATA \n",
    "shape = nop_100_data.shape\n",
    "index = pd.MultiIndex.from_product([range(s)for s in shape])\n",
    "noprime = pd.DataFrame({'signal': nop_100_data.flatten()}, index=index).reset_index()\n",
    "noprime.to_csv('No100Prime.csv', index=False)\n",
    "\n",
    "##### COL PRIME DATA \n",
    "shape = colp_100_data.shape\n",
    "index = pd.MultiIndex.from_product([range(s)for s in shape])\n",
    "colprime = pd.DataFrame({'signal': colp_100_data.flatten()}, index=index).reset_index()\n",
    "colprime.to_csv('Col100Prime.csv', index=False)\n",
    "\n",
    "##### SPA PRIME DATA\n",
    "shape = spap_100_data.shape\n",
    "index = pd.MultiIndex.from_product([range(s)for s in shape])\n",
    "colprime = pd.DataFrame({'signal': spap_100_data.flatten()}, index=index).reset_index()\n",
    "colprime.to_csv('Spa100Prime.csv', index=False)"
   ]
  },
  {
   "cell_type": "markdown",
   "id": "5efc8573",
   "metadata": {},
   "source": [
    "# P200 DATA\n"
   ]
  },
  {
   "cell_type": "code",
   "execution_count": null,
   "id": "e7418238",
   "metadata": {},
   "outputs": [],
   "source": [
    "##### PRIME DATA \n",
    "shape = p_200_data.shape \n",
    "index = pd.MultiIndex.from_product([range(s)for s in shape])\n",
    "prime = pd.DataFrame({'signal': p_200_data.flatten()}, index=index).reset_index()\n",
    "prime.to_csv('General200Prime.csv', index=False)\n",
    "\n",
    "##### NO PRIME DATA \n",
    "shape = nop_200_data.shape\n",
    "index = pd.MultiIndex.from_product([range(s)for s in shape])\n",
    "noprime = pd.DataFrame({'signal': nop_200_data.flatten()}, index=index).reset_index()\n",
    "noprime.to_csv('No200Prime.csv', index=False)\n",
    "\n",
    "##### COL PRIME DATA \n",
    "shape = colp_200_data.shape\n",
    "index = pd.MultiIndex.from_product([range(s)for s in shape])\n",
    "colprime = pd.DataFrame({'signal': colp_200_data.flatten()}, index=index).reset_index()\n",
    "colprime.to_csv('Col200Prime.csv', index=False)\n",
    "\n",
    "##### SPA PRIME DATA\n",
    "shape = spap_200_data.shape\n",
    "index = pd.MultiIndex.from_product([range(s)for s in shape])\n",
    "colprime = pd.DataFrame({'signal': spap_200_data.flatten()}, index=index).reset_index()\n",
    "colprime.to_csv('Spa200Prime.csv', index=False)"
   ]
  },
  {
   "cell_type": "markdown",
   "id": "7824f7a3",
   "metadata": {},
   "source": [
    "# N170 DATA"
   ]
  },
  {
   "cell_type": "code",
   "execution_count": null,
   "id": "3614c2d4",
   "metadata": {},
   "outputs": [],
   "source": [
    "##### PRIME DATA \n",
    "shape = p_170_data.shape \n",
    "index = pd.MultiIndex.from_product([range(s)for s in shape])\n",
    "prime = pd.DataFrame({'signal': p_170_data.flatten()}, index=index).reset_index()\n",
    "prime.to_csv('General170Prime.csv', index=False)\n",
    "\n",
    "##### NO PRIME DATA \n",
    "shape = nop_170_data.shape\n",
    "index = pd.MultiIndex.from_product([range(s)for s in shape])\n",
    "noprime = pd.DataFrame({'signal': nop_170_data.flatten()}, index=index).reset_index()\n",
    "noprime.to_csv('No170Prime.csv', index=False)\n",
    "\n",
    "##### COL PRIME DATA \n",
    "shape = colp_170_data.shape\n",
    "index = pd.MultiIndex.from_product([range(s)for s in shape])\n",
    "colprime = pd.DataFrame({'signal': colp_170_data.flatten()}, index=index).reset_index()\n",
    "colprime.to_csv('Col170Prime.csv', index=False)\n",
    "\n",
    "##### SPA PRIME DATA\n",
    "shape = spap_170_data.shape\n",
    "index = pd.MultiIndex.from_product([range(s)for s in shape])\n",
    "colprime = pd.DataFrame({'signal': spap_170_data.flatten()}, index=index).reset_index()\n",
    "colprime.to_csv('Spa170Prime.csv', index=False)"
   ]
  },
  {
   "cell_type": "markdown",
   "id": "7d27f3a0",
   "metadata": {},
   "source": [
    "# N400 DATA"
   ]
  },
  {
   "cell_type": "code",
   "execution_count": null,
   "id": "62ed794a",
   "metadata": {},
   "outputs": [],
   "source": [
    "##### PRIME DATA \n",
    "shape = p_400_data.shape \n",
    "index = pd.MultiIndex.from_product([range(s)for s in shape])\n",
    "prime = pd.DataFrame({'signal': p_400_data.flatten()}, index=index).reset_index()\n",
    "prime.to_csv('General400Prime.csv', index=False)\n",
    "\n",
    "##### NO PRIME DATA \n",
    "shape = nop_400_data.shape\n",
    "index = pd.MultiIndex.from_product([range(s)for s in shape])\n",
    "noprime = pd.DataFrame({'signal': nop_400_data.flatten()}, index=index).reset_index()\n",
    "noprime.to_csv('No400Prime.csv', index=False)\n",
    "\n",
    "##### COL PRIME DATA \n",
    "shape = colp_400_data.shape\n",
    "index = pd.MultiIndex.from_product([range(s)for s in shape])\n",
    "colprime = pd.DataFrame({'signal': colp_400_data.flatten()}, index=index).reset_index()\n",
    "colprime.to_csv('Col400Prime.csv', index=False)\n",
    "\n",
    "##### SPA PRIME DATA\n",
    "shape = spap_400_data.shape\n",
    "index = pd.MultiIndex.from_product([range(s)for s in shape])\n",
    "colprime = pd.DataFrame({'signal': spap_400_data.flatten()}, index=index).reset_index()\n",
    "colprime.to_csv('Spa400Prime.csv', index=False)"
   ]
  },
  {
   "cell_type": "markdown",
   "metadata": {},
   "source": [
    "## Permutation test\n",
    "The null hypothesis (H0) is that the data in the two conditions comes from the same probability distribution (i.e. they are interchangeable). In order to test this we scramble the data in the conditions n amount of times to get an idea of what distributions of cluster sizes we would expect if there is no difference between conditions. Based on this distribution we can establish how large a cluster should be to cross our significance level (e.g. 0.05) and then compare this to the clusters based on our conditions. If the highest value from our clusters is larger, this suggests that the data in the conditions are not interchangeable (i.e. the difference between them is significant)."
   ]
  },
  {
   "cell_type": "markdown",
   "id": "ac66049c",
   "metadata": {},
   "source": [
    "'Task/cblue', 'Task/cred'"
   ]
  },
  {
   "cell_type": "markdown",
   "id": "9ffdff65",
   "metadata": {},
   "source": [
    "### trying with new data made for this :)"
   ]
  },
  {
   "cell_type": "code",
   "execution_count": null,
   "id": "08323d4f",
   "metadata": {},
   "outputs": [],
   "source": [
    "epochs_per = mne.read_epochs('epoch_Data/EPOCHS_permutation-epo.fif')"
   ]
  },
  {
   "cell_type": "code",
   "execution_count": 50,
   "metadata": {
    "tags": []
   },
   "outputs": [
    {
     "name": "stdout",
     "output_type": "stream",
     "text": [
      "(40, 30, 225)\n",
      "(40, 225, 30)\n"
     ]
    }
   ],
   "source": [
    "\n",
    "# getting the data from our conditions\n",
    "X = [epochs_per[k].get_data() for k in ['Task/no_prime', 'Task/spatial', 'Task/colour']]\n",
    "print(X[0].shape)\n",
    "\n",
    "# transposing\n",
    "X = [np.transpose(x, (0, 2, 1)) for x in X]\n",
    "print(X[0].shape)"
   ]
  },
  {
   "cell_type": "code",
   "execution_count": 51,
   "metadata": {
    "tags": []
   },
   "outputs": [
    {
     "name": "stdout",
     "output_type": "stream",
     "text": [
      "Could not find a adjacency matrix for the data. Computing adjacency based on Delaunay triangulations.\n",
      "-- number of adjacent vertices : 30\n"
     ]
    },
    {
     "data": {
      "text/plain": [
       "Text(0.5, 1.0, 'Between-sensor adjacency')"
      ]
     },
     "execution_count": 51,
     "metadata": {},
     "output_type": "execute_result"
    },
    {
     "data": {
      "image/png": "[encoded data removed]",
      "text/plain": [
       "<Figure size 432x288 with 1 Axes>"
      ]
     },
     "metadata": {
      "needs_background": "light"
     },
     "output_type": "display_data"
    }
   ],
   "source": [
    "import matplotlib.pyplot as plt\n",
    "\n",
    "# finding channel adjacency: informs us which channels are next to each other (for co-localisation)\n",
    "adjacency, ch_names = mne.channels.find_ch_adjacency(epochs.info, ch_type='eeg')\n",
    "\n",
    "# plotting between-sensor adjacency\n",
    "plt.imshow(adjacency.toarray(), cmap='gray',\n",
    "           interpolation='nearest')\n",
    "plt.xlabel('{} EEG'.format(len(ch_names)))\n",
    "plt.ylabel('{} EEG'.format(len(ch_names)))\n",
    "plt.title('Between-sensor adjacency')"
   ]
  },
  {
   "cell_type": "code",
   "execution_count": 85,
   "metadata": {
    "tags": []
   },
   "outputs": [
    {
     "name": "stdout",
     "output_type": "stream",
     "text": [
      "Using a threshold of 3.115366\n",
      "stat_fun(H1): min=0.000593 max=9.038202\n",
      "Running initial clustering\n",
      "Found 55 clusters\n",
      "Permuting 999 times...\n"
     ]
    },
    {
     "name": "stderr",
     "output_type": "stream",
     "text": [
      "/var/folders/k4/ms5x119d5cd2s9ldsk71bkf00000gn/T/ipykernel_84646/525589162.py:5: RuntimeWarning: Ignoring argument \"tail\", performing 1-tailed F-test\n",
      "  cluster_stats = mne.stats.spatio_temporal_cluster_test(X, n_permutations=1000, tail=0,\n",
      "100%|██████████|  : 999/999 [00:11<00:00,   87.31it/s]"
     ]
    },
    {
     "name": "stdout",
     "output_type": "stream",
     "text": [
      "Computing cluster p-values\n",
      "Done.\n"
     ]
    },
    {
     "name": "stderr",
     "output_type": "stream",
     "text": [
      "\n"
     ]
    }
   ],
   "source": [
    "# set family-wise p-value\n",
    "p_accept = 0.2\n",
    "\n",
    "# running the permutation test with 2000 permutations and a random seed of 4\n",
    "cluster_stats = mne.stats.spatio_temporal_cluster_test(X, n_permutations=1000, tail=0,\n",
    "                                             n_jobs=-1, buffer_size=None, adjacency=adjacency, seed=4)\n",
    "\n",
    "# selecting clusters with significant p-values\n",
    "T_obs, clusters, p_values, _ = cluster_stats\n",
    "good_cluster_inds = np.where(p_values < p_accept)[0]"
   ]
  },
  {
   "cell_type": "code",
   "execution_count": 86,
   "metadata": {
    "tags": []
   },
   "outputs": [
    {
     "name": "stdout",
     "output_type": "stream",
     "text": [
      "[1.    1.    1.    0.976 1.    1.    1.    1.    1.    1.    1.    1.\n",
      " 1.    1.    1.    1.    1.    1.    1.    1.    0.999 1.    0.641 0.997\n",
      " 1.    1.    1.    0.139 1.    1.    0.999 1.    0.999 1.    1.    0.997\n",
      " 1.    0.704 1.    1.    0.364 0.187 1.    1.    0.42  1.    1.    0.209\n",
      " 1.    1.    1.    1.    0.998 1.    1.   ]\n",
      "[27 41]\n"
     ]
    }
   ],
   "source": [
    "print(p_values)\n",
    "print(good_cluster_inds)"
   ]
  },
  {
   "cell_type": "markdown",
   "metadata": {},
   "source": [
    "The code for this plot is a bit long and complex but you don't have to go through it all, just swap in your conditions in the first couple of lines :-)"
   ]
  },
  {
   "cell_type": "code",
   "execution_count": 88,
   "metadata": {
    "tags": []
   },
   "outputs": [
    {
     "name": "stdout",
     "output_type": "stream",
     "text": [
      "combining channels using \"gfp\"\n",
      "combining channels using \"gfp\"\n",
      "combining channels using \"gfp\"\n"
     ]
    },
    {
     "data": {
      "image/png": "[encoded data removed]",
      "text/plain": [
       "<Figure size 720x216 with 3 Axes>"
      ]
     },
     "metadata": {
      "needs_background": "light"
     },
     "output_type": "display_data"
    },
    {
     "name": "stdout",
     "output_type": "stream",
     "text": [
      "combining channels using \"gfp\"\n",
      "combining channels using \"gfp\"\n",
      "combining channels using \"gfp\"\n"
     ]
    },
    {
     "data": {
      "image/png": "[encoded data removed]",
      "text/plain": [
       "<Figure size 720x216 with 3 Axes>"
      ]
     },
     "metadata": {
      "needs_background": "light"
     },
     "output_type": "display_data"
    }
   ],
   "source": [
    "from mpl_toolkits.axes_grid1 import make_axes_locatable\n",
    "\n",
    "# configuration of variables for visualisation\n",
    "colors = {'Task/colour': \"crimson\", 'Task/spatial': 'steelblue', 'Task/no_prime':'black' }\n",
    "\n",
    "# organising data for plotting\n",
    "evokeds = {cond: epochs_per[cond].average() for cond in ['Task/no_prime', 'Task/colour', 'Task/spatial']} \n",
    "\n",
    "# looping over clusters\n",
    "for i_clu, clu_idx in enumerate(good_cluster_inds):\n",
    "    # unpacking cluster information\n",
    "    time_inds, space_inds = np.squeeze(clusters[clu_idx])\n",
    "    ch_inds = np.unique(space_inds)\n",
    "    time_inds = np.unique(time_inds)\n",
    "\n",
    "    # topography for F stat\n",
    "    f_map = T_obs[time_inds, ...].mean(axis=0)\n",
    "\n",
    "    # getting signals at the sensors contributing to the cluster\n",
    "    sig_times = epochs_n400.times[time_inds]\n",
    "\n",
    "    # creating spatial mask\n",
    "    mask = np.zeros((f_map.shape[0], 1), dtype=bool)\n",
    "    mask[ch_inds, :] = True\n",
    "\n",
    "    # initialising the figure\n",
    "    fig, ax_topo = plt.subplots(1, 1, figsize=(10, 3))\n",
    "\n",
    "    # plotting average test statistic and mark significant sensors\n",
    "    f_evoked = mne.EvokedArray(f_map[:, np.newaxis], epochs.info, tmin=0)\n",
    "    f_evoked.plot_topomap(times=0, mask=mask, axes=ax_topo, cmap='Reds',\n",
    "                          vmin=np.min, vmax=np.max, show=False,\n",
    "                          colorbar=False, mask_params=dict(markersize=10))\n",
    "    image = ax_topo.images[0]\n",
    "\n",
    "    # creating additional axes (for ERF and colorbar)\n",
    "    divider = make_axes_locatable(ax_topo)\n",
    "\n",
    "    # adding axes for colourbar\n",
    "    ax_colorbar = divider.append_axes('right', size='5%', pad=0.05)\n",
    "    plt.colorbar(image, cax=ax_colorbar)\n",
    "    ax_topo.set_xlabel(\n",
    "        'Averaged F-map ({:0.3f} - {:0.3f} s)'.format(*sig_times[[0, -1]]))\n",
    "\n",
    "    # adding new axis for time courses and plot time courses\n",
    "    ax_signals = divider.append_axes('right', size='300%', pad=1.2)\n",
    "    title = 'Cluster #{0}, {1} sensor'.format(i_clu + 1, len(ch_inds))\n",
    "    if len(ch_inds) > 1:\n",
    "        title += \"s (mean)\"\n",
    "    mne.viz.plot_compare_evokeds(evokeds, title=title, picks=ch_inds, axes=ax_signals,\n",
    "                         colors=colors, show=False,\n",
    "                         split_legend=True, truncate_yaxis='auto')\n",
    "\n",
    "    # plotting temporal cluster extent\n",
    "    ymin, ymax = ax_signals.get_ylim()\n",
    "    ax_signals.fill_betweenx((ymin, ymax), sig_times[0], sig_times[-1],\n",
    "                             color='orange', alpha=0.3)\n",
    "\n",
    "    # clean-up\n",
    "    mne.viz.tight_layout(fig=fig)\n",
    "    fig.subplots_adjust(bottom=0.5)\n",
    "    plt.show()"
   ]
  },
  {
   "cell_type": "code",
   "execution_count": null,
   "id": "42111a83",
   "metadata": {},
   "outputs": [],
   "source": []
  }
 ],
 "metadata": {
  "interpreter": {
   "hash": "ebd4ad062250356f1c07d19fd6559cdab666379a54c1b7d4fe294cec2aed497f"
  },
  "kernelspec": {
   "display_name": "Python 3.9.7 ('methods3')",
   "language": "python",
   "name": "python3"
  },
  "language_info": {
   "codemirror_mode": {
    "name": "ipython",
    "version": 3
   },
   "file_extension": ".py",
   "mimetype": "text/x-python",
   "name": "python",
   "nbconvert_exporter": "python",
   "pygments_lexer": "ipython3",
   "version": "3.9.7"
  },
  "toc": {
   "base_numbering": 1,
   "nav_menu": {},
   "number_sections": true,
   "sideBar": true,
   "skip_h1_title": false,
   "title_cell": "Table of Contents",
   "title_sidebar": "Contents",
   "toc_cell": false,
   "toc_position": {},
   "toc_section_display": true,
   "toc_window_display": false
  }
 },
 "nbformat": 4,
 "nbformat_minor": 5
}
